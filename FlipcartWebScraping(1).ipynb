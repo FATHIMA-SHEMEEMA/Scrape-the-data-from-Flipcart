{
 "cells": [
  {
   "cell_type": "markdown",
   "metadata": {},
   "source": [
    "# WEB SCRAPING USING AUTOSCRAPER FLIPCART\n"
   ]
  },
  {
   "cell_type": "code",
   "execution_count": 21,
   "metadata": {},
   "outputs": [],
   "source": [
    "from autoscraper import AutoScraper"
   ]
  },
  {
   "cell_type": "code",
   "execution_count": 22,
   "metadata": {},
   "outputs": [
    {
     "name": "stdout",
     "output_type": "stream",
     "text": [
      "['4.4', 'Redmi Note 4 (Gold, 64 GB)', 'Redmi Note 4 (Dark Grey, 64 GB)', 'Redmi Note 4 (Gold, 32 GB)', 'Redmi Note 4 (Black, 32 GB)', 'Redmi Note 4 (Black, 64 GB)']\n"
     ]
    }
   ],
   "source": [
    "url=\"https://www.flipkart.com/mobiles/~redmi-note-series/pr?sid=tyy%2C4io\"\n",
    "\n",
    "wanted_list=[\"4.4\",\"Redmi Note 4 (Gold, 32 GB)\",]\n",
    "\n",
    "scraper=AutoScraper()\n",
    "result=scraper.build(url,wanted_list)\n",
    "print(result)"
   ]
  },
  {
   "cell_type": "code",
   "execution_count": 23,
   "metadata": {},
   "outputs": [
    {
     "data": {
      "text/plain": [
       "{'rule_oo7m': ['4.4', '4.4', '4.4', '4.4', '4.4'],\n",
       " 'rule_cndp': ['4.4', '4.4', '4.4', '4.4', '4.4'],\n",
       " 'rule_wv5n': ['4.4', '4.4', '4.4', '4.4', '4.4'],\n",
       " 'rule_7i00': ['4.4', '4.4', '4.4', '4.4', '4.4'],\n",
       " 'rule_1t9s': ['4.4', '4.4', '4.4', '4.4', '4.4'],\n",
       " 'rule_q4t8': ['Redmi Note 4 (Gold, 64 GB)',\n",
       "  'Redmi Note 4 (Dark Grey, 64 GB)',\n",
       "  'Redmi Note 4 (Gold, 32 GB)',\n",
       "  'Redmi Note 4 (Black, 32 GB)',\n",
       "  'Redmi Note 4 (Black, 64 GB)'],\n",
       " 'rule_ihg9': ['Redmi Note 4 (Gold, 32 GB)',\n",
       "  'Redmi Note 4 (Black, 32 GB)',\n",
       "  'Redmi Note 4 (Black, 64 GB)',\n",
       "  'Redmi Note 4 (Gold, 64 GB)',\n",
       "  'Redmi Note 4 (Dark Grey, 64 GB)'],\n",
       " 'rule_b4q3': ['Redmi Note 4 (Gold, 32 GB)',\n",
       "  'Redmi Note 4 (Black, 32 GB)',\n",
       "  'Redmi Note 4 (Black, 64 GB)',\n",
       "  'Redmi Note 4 (Gold, 64 GB)',\n",
       "  'Redmi Note 4 (Dark Grey, 64 GB)']}"
      ]
     },
     "execution_count": 23,
     "metadata": {},
     "output_type": "execute_result"
    }
   ],
   "source": [
    "scraper.get_result_similar(\"https://www.flipkart.com/mobiles/~redmi-note-series/pr?sid=tyy%2C4io\",grouped=True)"
   ]
  },
  {
   "cell_type": "code",
   "execution_count": 24,
   "metadata": {},
   "outputs": [],
   "source": [
    "scraper.set_rule_aliases({'rule_oo7m':'Stars','rule_q4t8':'Title'})\n",
    "scraper.keep_rules(['rule_oo7m','rule_q4t8'])\n"
   ]
  },
  {
   "cell_type": "code",
   "execution_count": 25,
   "metadata": {},
   "outputs": [],
   "source": [
    "result=scraper.get_result_similar(\"https://www.flipkart.com/mobiles/~redmi-note-series/pr?sid=tyy%2C4io\",group_by_alias=True)"
   ]
  },
  {
   "cell_type": "code",
   "execution_count": 26,
   "metadata": {},
   "outputs": [
    {
     "data": {
      "text/plain": [
       "['Redmi Note 4 (Gold, 64 GB)',\n",
       " 'Redmi Note 4 (Dark Grey, 64 GB)',\n",
       " 'Redmi Note 4 (Gold, 32 GB)',\n",
       " 'Redmi Note 4 (Black, 32 GB)',\n",
       " 'Redmi Note 4 (Black, 64 GB)']"
      ]
     },
     "execution_count": 26,
     "metadata": {},
     "output_type": "execute_result"
    }
   ],
   "source": [
    "result['Title']"
   ]
  },
  {
   "cell_type": "code",
   "execution_count": 27,
   "metadata": {},
   "outputs": [
    {
     "data": {
      "text/plain": [
       "['4.4', '4.4', '4.4', '4.4', '4.4']"
      ]
     },
     "execution_count": 27,
     "metadata": {},
     "output_type": "execute_result"
    }
   ],
   "source": [
    "result['Stars']"
   ]
  },
  {
   "cell_type": "code",
   "execution_count": null,
   "metadata": {},
   "outputs": [],
   "source": []
  },
  {
   "cell_type": "code",
   "execution_count": null,
   "metadata": {},
   "outputs": [],
   "source": []
  },
  {
   "cell_type": "code",
   "execution_count": null,
   "metadata": {},
   "outputs": [],
   "source": []
  },
  {
   "cell_type": "code",
   "execution_count": null,
   "metadata": {},
   "outputs": [],
   "source": []
  },
  {
   "cell_type": "code",
   "execution_count": null,
   "metadata": {},
   "outputs": [],
   "source": []
  },
  {
   "cell_type": "code",
   "execution_count": null,
   "metadata": {},
   "outputs": [],
   "source": []
  }
 ],
 "metadata": {
  "kernelspec": {
   "display_name": "Python 3",
   "language": "python",
   "name": "python3"
  },
  "language_info": {
   "codemirror_mode": {
    "name": "ipython",
    "version": 3
   },
   "file_extension": ".py",
   "mimetype": "text/x-python",
   "name": "python",
   "nbconvert_exporter": "python",
   "pygments_lexer": "ipython3",
   "version": "3.8.5"
  }
 },
 "nbformat": 4,
 "nbformat_minor": 4
}
